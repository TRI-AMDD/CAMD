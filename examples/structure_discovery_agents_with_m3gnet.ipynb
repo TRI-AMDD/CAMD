{
 "cells": [
  {
   "cell_type": "markdown",
   "id": "787affea",
   "metadata": {},
   "source": [
    "# Structure discovery using a DFT surrogate model"
   ]
  },
  {
   "cell_type": "code",
   "execution_count": 19,
   "id": "82bd0852",
   "metadata": {},
   "outputs": [],
   "source": [
    "# Installation - restart the kernel after running this cell\n",
    "# !pip install camd m3gnet protosearch atomate"
   ]
  },
  {
   "cell_type": "code",
   "execution_count": 2,
   "id": "b2db246e",
   "metadata": {},
   "outputs": [],
   "source": [
    "# Several warnings from m3gnet, pyspglib are not relevant for this\n",
    "# hide them for clarity\n",
    "import warnings\n",
    "warnings.filterwarnings('ignore')"
   ]
  },
  {
   "cell_type": "markdown",
   "id": "cff8b048",
   "metadata": {},
   "source": [
    "In this notebook we demonstrate the basics of the structure discovery algorithms in CAMD. In lieu of actually doing DFT, which is expensive, we use an alternate model that is not as accurate but very cheap. The surrogate model we use is a ML-potential model called [m3gnet](https://github.com/materialsvirtuallab/m3gnet), which can both provide us with energies and optimize our structures. Note that structure discovery campaign results from m3gnet should be interpreted very conservatively, and that a large database of results from m3gnet can already be found at [matterverse.ai](http://matterverse.ai)."
   ]
  },
  {
   "cell_type": "code",
   "execution_count": 3,
   "id": "274a4b05",
   "metadata": {},
   "outputs": [
    {
     "name": "stderr",
     "output_type": "stream",
     "text": [
      "WARNING:root:Failed to import pyspglib.Download at: http://sourceforge.net/projects/spglib/ andfollow instructions for installing python API\n"
     ]
    }
   ],
   "source": [
    "# Copyright Toyota Research Institute 2022\n",
    "from camd.campaigns.base import Campaign\n",
    "from sklearn.neural_network import MLPRegressor\n",
    "from camd.agent.stability import AgentStabilityAdaBoost\n",
    "from camd.analysis import StabilityAnalyzer\n",
    "from camd.experiment.base import Experiment\n",
    "from camd.experiment.dft import get_mp_formation_energy_from_m3gnet\n",
    "from camd.utils.data import load_default_atf_data\n",
    "import pandas as pd\n",
    "import os\n",
    "import re\n",
    "import shutil\n",
    "from m3gnet.models import M3GNet, Potential, Relaxer\n",
    "from pymatgen.io.ase import AseAtomsAdaptor\n",
    "from tqdm import tqdm"
   ]
  },
  {
   "cell_type": "markdown",
   "id": "4c15b8d0",
   "metadata": {},
   "source": [
    "Load dataset - this default dataset contains all of the OQMD binary compounds, including Composition (or reduced_formula), delta_e (formation_energy_per_atom), and features computed according to Ward et al. (2017)."
   ]
  },
  {
   "cell_type": "code",
   "execution_count": 4,
   "id": "fc965547",
   "metadata": {},
   "outputs": [],
   "source": [
    "# We'll be using a cached dataset, but here's an example of how you\n",
    "# can fetch data from the materials project if needed\n",
    "use_cached = True\n",
    "if not use_cached:\n",
    "    from pymatgen.ext.matproj import MPRester\n",
    "    from camd.utils.data import get_default_featurizer\n",
    "    with MPRester() as mpr:\n",
    "        binary_sulfides = mpr.query({\"nelements\": 2, \"elements\": \"S\"}, \n",
    "                 ['structure', 'material_id', \n",
    "                  'pretty_formula', 'formation_energy_per_atom'])\n",
    "        unary_materials = mpr.query({\"nelements\": 1, \"e_above_hull\": 0}, \n",
    "                 ['structure', 'material_id', \n",
    "                  'pretty_formula', 'formation_energy_per_atom'])\n",
    "    data = binary_sulfides + unary_materials # concatenate two datasets\n",
    "    data = {r['material_id']: r for r in data}\n",
    "    dataframe = pd.DataFrame.from_dict(data, orient='index')\n",
    "    featurizer = get_default_featurizer()\n",
    "    dataframe = featurizer.featurize_dataframe(dataframe, 'structure', ignore_errors=True)\n",
    "    dataframe = dataframe.rename(columns={\n",
    "         \"formation_energy_per_atom\": \"delta_e\",\n",
    "         \"pretty_formula\": \"Composition\"\n",
    "    })\n",
    "    dataframe = dataframe.dropna()\n",
    "    dataframe = dataframe.drop_duplicates(subset='material_id')\n",
    "    dataframe.to_pickle(\"binary_sulfides_mp.pickle\")\n",
    "    seed_data = dataframe\n",
    "else:\n",
    "    # Use the cached dataset\n",
    "    seed_data = pd.read_pickle(\"binary_sulfides_mp.pickle\")\n",
    "    seed_data = seed_data.dropna()"
   ]
  },
  {
   "cell_type": "code",
   "execution_count": 5,
   "id": "a90fc23d",
   "metadata": {},
   "outputs": [],
   "source": [
    "# CAMD generates structure using a structure generation algorithm \n",
    "# defined by Wyckoff-site enumerated prototypes, we'll also cache\n",
    "# these because featurization takes a little while, but here's the code\n",
    "use_cached = True\n",
    "if not use_cached:\n",
    "    from camd.domain import StructureDomain, heuristic_setup\n",
    "    chemsys = [\"Mn\", \"S\"]\n",
    "    max_coeff, charge_balanced = heuristic_setup(chemsys)\n",
    "    domain = StructureDomain.from_bounds(\n",
    "        chemsys,\n",
    "        charge_balanced=charge_balanced,\n",
    "        n_max_atoms=20,\n",
    "        grid=(1, max_coeff)\n",
    "    )\n",
    "    candidate_data = domain.candidates()\n",
    "    candidate_data.to_pickle(\"mn_s_candidates.pickle\")\n",
    "else:\n",
    "    candidate_data = pd.read_pickle(\"mn_s_candidates.pickle\")"
   ]
  },
  {
   "cell_type": "code",
   "execution_count": 6,
   "id": "4468bca7",
   "metadata": {},
   "outputs": [],
   "source": [
    "class MockVasprun():\n",
    "    \"\"\"\n",
    "    This is a hacked version of the Vasprun object\n",
    "    that makes the experiment compatible with the\n",
    "    final analyzer in CAMD\n",
    "    \"\"\"\n",
    "    final_structure = None\n",
    "    final_energy = None"
   ]
  },
  {
   "cell_type": "code",
   "execution_count": 7,
   "id": "ef3dd519",
   "metadata": {},
   "outputs": [],
   "source": [
    "# Define the experiment\n",
    "# Experiment classes in CAMD require 3 methods\n",
    "# - submit starts the calculation\n",
    "# - get_results returns a dataframe with results\n",
    "# - monitor is a method to wait until results are done, which ensures \n",
    "#   compatibility with CAMD logic\n",
    "class M3GNetExperiment(Experiment):\n",
    "    def submit(self, data):\n",
    "        \"\"\"data is a pandas dataframe that must have a column called structure\"\"\"\n",
    "        # Sometimes in this method you might submit to an external system,\n",
    "        # e.g. AWS batch or a supercomputer, but in this case we just update\n",
    "        # the data because we do the computation locally\n",
    "        self.update_current_data(data)\n",
    "        \n",
    "    def monitor(self):\n",
    "        relaxer = Relaxer()\n",
    "        delta_es = []\n",
    "        status = []\n",
    "        results = []\n",
    "        for index, row in tqdm(self.current_data.iterrows(), desc=\"Experiments\"):\n",
    "            s = row['structure']\n",
    "            t = relaxer.relax(s)[\"trajectory\"]\n",
    "            e = t.energies[-1].flatten()[0]\n",
    "            delta_e = get_mp_formation_energy_from_m3gnet(\n",
    "                e, s\n",
    "            )\n",
    "            result = MockVasprun()\n",
    "            result.final_structure = row['structure']\n",
    "            result.final_energy = e\n",
    "            delta_es.append(delta_e)\n",
    "            status.append('SUCCEEDED')\n",
    "            results.append(result)\n",
    "        self.current_data['delta_e'] = delta_es\n",
    "        self.current_data['status'] = status\n",
    "        self.current_data['result'] = results\n",
    "        # This is a hack to ensure compatibility with the final analysis\n",
    "        # which uses Vasprun objects\n",
    "        \n",
    "    \n",
    "    def get_results(self):\n",
    "        return self.current_data"
   ]
  },
  {
   "cell_type": "code",
   "execution_count": 8,
   "id": "ba9ca443",
   "metadata": {},
   "outputs": [],
   "source": [
    "from pymatgen.ext.matproj import MPRester\n",
    "with MPRester() as mpr:\n",
    "    structure = mpr.get_structure_by_material_id(\"mp-66\")\n",
    "relaxer = Relaxer()\n",
    "t = relaxer.relax(structure)['trajectory']"
   ]
  },
  {
   "cell_type": "code",
   "execution_count": 9,
   "id": "fb52f051",
   "metadata": {},
   "outputs": [
    {
     "data": {
      "text/plain": [
       "Atoms(symbols='C2', pbc=True, cell=[[0.0, 1.786855, 1.786855], [1.786855, 0.0, 1.786855], [1.786855, 1.786855, 0.0]], initial_magmoms=..., calculator=M3GNetCalculator(...))"
      ]
     },
     "execution_count": 9,
     "metadata": {},
     "output_type": "execute_result"
    }
   ],
   "source": [
    "t.atoms"
   ]
  },
  {
   "cell_type": "code",
   "execution_count": 10,
   "id": "8f2e02cb",
   "metadata": {},
   "outputs": [
    {
     "name": "stderr",
     "output_type": "stream",
     "text": [
      "Experiments: 3it [00:28,  9.46s/it]\n"
     ]
    }
   ],
   "source": [
    "# Let's test the experiment\n",
    "experiment = M3GNetExperiment()\n",
    "experiment.submit(candidate_data.sample(3))\n",
    "experiment.monitor()\n",
    "results = experiment.get_results()"
   ]
  },
  {
   "cell_type": "code",
   "execution_count": 11,
   "id": "4f221509",
   "metadata": {},
   "outputs": [
    {
     "data": {
      "text/html": [
       "<div>\n",
       "<style scoped>\n",
       "    .dataframe tbody tr th:only-of-type {\n",
       "        vertical-align: middle;\n",
       "    }\n",
       "\n",
       "    .dataframe tbody tr th {\n",
       "        vertical-align: top;\n",
       "    }\n",
       "\n",
       "    .dataframe thead th {\n",
       "        text-align: right;\n",
       "    }\n",
       "</style>\n",
       "<table border=\"1\" class=\"dataframe\">\n",
       "  <thead>\n",
       "    <tr style=\"text-align: right;\">\n",
       "      <th></th>\n",
       "      <th>delta_e</th>\n",
       "    </tr>\n",
       "  </thead>\n",
       "  <tbody>\n",
       "    <tr>\n",
       "      <th>14-S-e-Mn-e</th>\n",
       "      <td>-0.786194</td>\n",
       "    </tr>\n",
       "    <tr>\n",
       "      <th>205-Mn-c-S-c</th>\n",
       "      <td>-0.780146</td>\n",
       "    </tr>\n",
       "    <tr>\n",
       "      <th>59-S-a-S-e-S-e-Mn-b-Mn-e-Mn-f</th>\n",
       "      <td>-0.648214</td>\n",
       "    </tr>\n",
       "  </tbody>\n",
       "</table>\n",
       "</div>"
      ],
      "text/plain": [
       "                                delta_e\n",
       "14-S-e-Mn-e                   -0.786194\n",
       "205-Mn-c-S-c                  -0.780146\n",
       "59-S-a-S-e-S-e-Mn-b-Mn-e-Mn-f -0.648214"
      ]
     },
     "execution_count": 11,
     "metadata": {},
     "output_type": "execute_result"
    }
   ],
   "source": [
    "results[['delta_e']]"
   ]
  },
  {
   "cell_type": "code",
   "execution_count": 12,
   "id": "323811ca",
   "metadata": {},
   "outputs": [],
   "source": [
    "##########################################################\n",
    "# Binary stable material discovery 50:50 explore/exploit agent\n",
    "##########################################################\n",
    "n_query = 5  # This many new candidates are \"calculated with DFT\" \n",
    "# (i.e. requested from Oracle -- DFT)\n",
    "agent = AgentStabilityAdaBoost(\n",
    "    model=MLPRegressor(hidden_layer_sizes=(40, 20)),\n",
    "    n_query=n_query,\n",
    "    hull_distance=0.05,\n",
    "    uncertainty=True,\n",
    "    exploit_fraction=0.8, # Number of candidates chosen by the ML model, rest are random\n",
    "    alpha=0.5, # Weighting of the estimated uncertainty from the AdaBoost ensemble\n",
    "    n_estimators=10\n",
    ")\n",
    "analyzer = StabilityAnalyzer(hull_distance=0.05)\n",
    "experiment = M3GNetExperiment()"
   ]
  },
  {
   "cell_type": "code",
   "execution_count": 13,
   "id": "59ace130",
   "metadata": {},
   "outputs": [
    {
     "name": "stderr",
     "output_type": "stream",
     "text": [
      "Campaign initialization state: Agent AgentStabilityAdaBoost hypothesizing\n",
      "Campaign 0 state: Running experiments\n",
      "Iteration: 0\n",
      "Campaign 0 state: Getting new results\n",
      "Experiments: 5it [01:00, 12.14s/it]\n",
      "Campaign 0 state: Analyzing results\n",
      "Campaign 0 state: Agent AgentStabilityAdaBoost hypothesizing\n",
      "Campaign 0 state: Running experiments\n",
      "  Waiting for next round ...\n",
      "Iteration: 1\n",
      "Campaign 1 state: Getting new results\n",
      "Experiments: 5it [00:20,  4.12s/it]\n",
      "Campaign 1 state: Analyzing results\n",
      "Campaign 1 state: Agent AgentStabilityAdaBoost hypothesizing\n",
      "Campaign 1 state: Running experiments\n",
      "  Waiting for next round ...\n",
      "Iteration: 2\n",
      "Campaign 2 state: Getting new results\n",
      "Experiments: 5it [00:54, 10.90s/it]\n",
      "Campaign 2 state: Analyzing results\n",
      "Campaign 2 state: Agent AgentStabilityAdaBoost hypothesizing\n",
      "Campaign 2 state: Running experiments\n",
      "  Waiting for next round ...\n",
      "Iteration: 3\n",
      "Campaign 3 state: Getting new results\n",
      "Experiments: 4it [00:23,  5.96s/it]\n",
      "Campaign 3 state: Analyzing results\n",
      "Campaign 3 state: Agent AgentStabilityAdaBoost hypothesizing\n",
      "Campaign 3 state: Running experiments\n",
      "  Waiting for next round ...\n",
      "Iteration: 4\n",
      "Campaign 4 state: Getting new results\n",
      "Experiments: 5it [01:00, 12.02s/it]\n",
      "Campaign 4 state: Analyzing results\n",
      "Campaign 4 state: Agent AgentStabilityAdaBoost hypothesizing\n",
      "Campaign 4 state: Running experiments\n",
      "  Waiting for next round ...\n",
      "Finalizing campaign.\n"
     ]
    }
   ],
   "source": [
    "# Usually takes ~5-10 minutes\n",
    "path = os.path.join(os.getcwd(), \"m3gnet_structure_discovery\")\n",
    "shutil.rmtree(path, ignore_errors=True)\n",
    "os.makedirs(path)\n",
    "campaign = Campaign(\n",
    "    candidate_data, \n",
    "    agent, \n",
    "    experiment, \n",
    "    analyzer, \n",
    "    seed_data=seed_data,\n",
    "    path=path\n",
    ")\n",
    "campaign.auto_loop(n_iterations=4, initialize=True)"
   ]
  },
  {
   "cell_type": "code",
   "execution_count": 14,
   "id": "448c40e7",
   "metadata": {},
   "outputs": [
    {
     "data": {
      "text/html": [
       "<div>\n",
       "<style scoped>\n",
       "    .dataframe tbody tr th:only-of-type {\n",
       "        vertical-align: middle;\n",
       "    }\n",
       "\n",
       "    .dataframe tbody tr th {\n",
       "        vertical-align: top;\n",
       "    }\n",
       "\n",
       "    .dataframe thead th {\n",
       "        text-align: right;\n",
       "    }\n",
       "</style>\n",
       "<table border=\"1\" class=\"dataframe\">\n",
       "  <thead>\n",
       "    <tr style=\"text-align: right;\">\n",
       "      <th></th>\n",
       "      <th>new_candidates</th>\n",
       "      <th>new_discovery</th>\n",
       "      <th>total_discovery</th>\n",
       "    </tr>\n",
       "  </thead>\n",
       "  <tbody>\n",
       "    <tr>\n",
       "      <th>0</th>\n",
       "      <td>5</td>\n",
       "      <td>2</td>\n",
       "      <td>2</td>\n",
       "    </tr>\n",
       "    <tr>\n",
       "      <th>1</th>\n",
       "      <td>5</td>\n",
       "      <td>1</td>\n",
       "      <td>3</td>\n",
       "    </tr>\n",
       "    <tr>\n",
       "      <th>2</th>\n",
       "      <td>5</td>\n",
       "      <td>0</td>\n",
       "      <td>3</td>\n",
       "    </tr>\n",
       "    <tr>\n",
       "      <th>3</th>\n",
       "      <td>4</td>\n",
       "      <td>0</td>\n",
       "      <td>3</td>\n",
       "    </tr>\n",
       "    <tr>\n",
       "      <th>4</th>\n",
       "      <td>5</td>\n",
       "      <td>0</td>\n",
       "      <td>3</td>\n",
       "    </tr>\n",
       "  </tbody>\n",
       "</table>\n",
       "</div>"
      ],
      "text/plain": [
       "   new_candidates  new_discovery  total_discovery\n",
       "0               5              2                2\n",
       "1               5              1                3\n",
       "2               5              0                3\n",
       "3               4              0                3\n",
       "4               5              0                3"
      ]
     },
     "execution_count": 14,
     "metadata": {},
     "output_type": "execute_result"
    }
   ],
   "source": [
    "campaign.history"
   ]
  },
  {
   "cell_type": "code",
   "execution_count": 15,
   "id": "13a90c71",
   "metadata": {},
   "outputs": [
    {
     "data": {
      "text/plain": [
       "<AxesSubplot:>"
      ]
     },
     "execution_count": 15,
     "metadata": {},
     "output_type": "execute_result"
    },
    {
     "data": {
      "image/png": "[encoded data removed]",
      "text/plain": [
       "<Figure size 432x288 with 1 Axes>"
      ]
     },
     "metadata": {
      "needs_background": "light"
     },
     "output_type": "display_data"
    }
   ],
   "source": [
    "campaign.history.plot.bar(y='total_discovery')"
   ]
  },
  {
   "cell_type": "markdown",
   "id": "6b9569c0",
   "metadata": {},
   "source": [
    "![hull.png](m3gnet_structure_discovery/hull_finalized.png)"
   ]
  },
  {
   "cell_type": "code",
   "execution_count": 20,
   "id": "2c2ea729",
   "metadata": {},
   "outputs": [
    {
     "data": {
      "text/html": [
       "<div>\n",
       "<style scoped>\n",
       "    .dataframe tbody tr th:only-of-type {\n",
       "        vertical-align: middle;\n",
       "    }\n",
       "\n",
       "    .dataframe tbody tr th {\n",
       "        vertical-align: top;\n",
       "    }\n",
       "\n",
       "    .dataframe thead th {\n",
       "        text-align: right;\n",
       "    }\n",
       "</style>\n",
       "<table border=\"1\" class=\"dataframe\">\n",
       "  <thead>\n",
       "    <tr style=\"text-align: right;\">\n",
       "      <th></th>\n",
       "      <th>stability</th>\n",
       "      <th>is_stable</th>\n",
       "    </tr>\n",
       "  </thead>\n",
       "  <tbody>\n",
       "    <tr>\n",
       "      <th>mp-1063988</th>\n",
       "      <td>1.137487</td>\n",
       "      <td>False</td>\n",
       "    </tr>\n",
       "    <tr>\n",
       "      <th>mp-1064933</th>\n",
       "      <td>0.349665</td>\n",
       "      <td>False</td>\n",
       "    </tr>\n",
       "    <tr>\n",
       "      <th>mp-1783</th>\n",
       "      <td>0.087380</td>\n",
       "      <td>False</td>\n",
       "    </tr>\n",
       "    <tr>\n",
       "      <th>189-Mn-a-S-d-S-f-S-g</th>\n",
       "      <td>0.242289</td>\n",
       "      <td>False</td>\n",
       "    </tr>\n",
       "    <tr>\n",
       "      <th>mp-555915</th>\n",
       "      <td>0.020584</td>\n",
       "      <td>True</td>\n",
       "    </tr>\n",
       "    <tr>\n",
       "      <th>...</th>\n",
       "      <td>...</td>\n",
       "      <td>...</td>\n",
       "    </tr>\n",
       "    <tr>\n",
       "      <th>mp-1094073</th>\n",
       "      <td>0.570869</td>\n",
       "      <td>False</td>\n",
       "    </tr>\n",
       "    <tr>\n",
       "      <th>mp-557031</th>\n",
       "      <td>0.043982</td>\n",
       "      <td>True</td>\n",
       "    </tr>\n",
       "    <tr>\n",
       "      <th>mp-558014</th>\n",
       "      <td>0.014103</td>\n",
       "      <td>True</td>\n",
       "    </tr>\n",
       "    <tr>\n",
       "      <th>mp-35</th>\n",
       "      <td>0.000000</td>\n",
       "      <td>True</td>\n",
       "    </tr>\n",
       "    <tr>\n",
       "      <th>63-Mn-c-Mn-c-S-g</th>\n",
       "      <td>0.136161</td>\n",
       "      <td>False</td>\n",
       "    </tr>\n",
       "  </tbody>\n",
       "</table>\n",
       "<p>64 rows × 2 columns</p>\n",
       "</div>"
      ],
      "text/plain": [
       "                      stability  is_stable\n",
       "mp-1063988             1.137487      False\n",
       "mp-1064933             0.349665      False\n",
       "mp-1783                0.087380      False\n",
       "189-Mn-a-S-d-S-f-S-g   0.242289      False\n",
       "mp-555915              0.020584       True\n",
       "...                         ...        ...\n",
       "mp-1094073             0.570869      False\n",
       "mp-557031              0.043982       True\n",
       "mp-558014              0.014103       True\n",
       "mp-35                  0.000000       True\n",
       "63-Mn-c-Mn-c-S-g       0.136161      False\n",
       "\n",
       "[64 rows x 2 columns]"
      ]
     },
     "execution_count": 20,
     "metadata": {},
     "output_type": "execute_result"
    }
   ],
   "source": [
    "# Inspect the whole Mn-S system dataset\n",
    "campaign.analyzer[0].current_analysis"
   ]
  },
  {
   "cell_type": "markdown",
   "id": "b8f05681",
   "metadata": {},
   "source": [
    "In the real CAMD campaign, the agent is a little stronger, having access to both the entire ICSD dataset from the OQMD for regression and using more estimators to get a stronger prediction and uncertainty estimate. Similarly, in the real ProtoDFTCampaign, one can invoke from a chemical system, and logging and storage are backed up to the cloud. Lastly, the production ProtoDFTCampaign uses a custom DFT submission backend that runs OQMD-parametrized DFT simulations using AWS Batch."
   ]
  }
 ],
 "metadata": {
  "kernelspec": {
   "display_name": "Python 3",
   "language": "python",
   "name": "python3"
  },
  "language_info": {
   "codemirror_mode": {
    "name": "ipython",
    "version": 3
   },
   "file_extension": ".py",
   "mimetype": "text/x-python",
   "name": "python",
   "nbconvert_exporter": "python",
   "pygments_lexer": "ipython3",
   "version": "3.9.12"
  }
 },
 "nbformat": 4,
 "nbformat_minor": 5
}
