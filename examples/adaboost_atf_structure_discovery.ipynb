{
 "cells": [
  {
   "cell_type": "markdown",
   "id": "787affea",
   "metadata": {},
   "source": [
    "# Using the Adaboost agent for structure discovery"
   ]
  },
  {
   "cell_type": "code",
   "execution_count": 15,
   "id": "274a4b05",
   "metadata": {},
   "outputs": [],
   "source": [
    "# Copyright Toyota Research Institute 2019\n",
    "from camd.campaigns.base import Campaign\n",
    "from sklearn.neural_network import MLPRegressor\n",
    "from camd.agent.stability import AgentStabilityAdaBoost\n",
    "from camd.analysis import StabilityAnalyzer\n",
    "from camd.experiment.base import ATFSampler\n",
    "from camd.utils.data import load_default_atf_data\n",
    "import os\n",
    "import shutil"
   ]
  },
  {
   "cell_type": "markdown",
   "id": "4c15b8d0",
   "metadata": {},
   "source": [
    "Load dataset - this default dataset contains all of the OQMD binary compounds, including Composition (or reduced_formula), delta_e (formation_energy_per_atom), and features computed according to Ward et al. (2017)."
   ]
  },
  {
   "cell_type": "code",
   "execution_count": 7,
   "id": "fc965547",
   "metadata": {},
   "outputs": [],
   "source": [
    "df = load_default_atf_data()"
   ]
  },
  {
   "cell_type": "code",
   "execution_count": 9,
   "id": "6699af90",
   "metadata": {},
   "outputs": [
    {
     "data": {
      "text/html": [
       "<div>\n",
       "<style scoped>\n",
       "    .dataframe tbody tr th:only-of-type {\n",
       "        vertical-align: middle;\n",
       "    }\n",
       "\n",
       "    .dataframe tbody tr th {\n",
       "        vertical-align: top;\n",
       "    }\n",
       "\n",
       "    .dataframe thead th {\n",
       "        text-align: right;\n",
       "    }\n",
       "</style>\n",
       "<table border=\"1\" class=\"dataframe\">\n",
       "  <thead>\n",
       "    <tr style=\"text-align: right;\">\n",
       "      <th></th>\n",
       "      <th>Composition</th>\n",
       "      <th>delta_e</th>\n",
       "    </tr>\n",
       "  </thead>\n",
       "  <tbody>\n",
       "    <tr>\n",
       "      <th>15232</th>\n",
       "      <td>Tb2Se3</td>\n",
       "      <td>-1.618293</td>\n",
       "    </tr>\n",
       "    <tr>\n",
       "      <th>310747</th>\n",
       "      <td>Pr3Os</td>\n",
       "      <td>0.322557</td>\n",
       "    </tr>\n",
       "    <tr>\n",
       "      <th>17129</th>\n",
       "      <td>Tl2Pt</td>\n",
       "      <td>-0.062342</td>\n",
       "    </tr>\n",
       "    <tr>\n",
       "      <th>310689</th>\n",
       "      <td>Gd3F</td>\n",
       "      <td>-0.196685</td>\n",
       "    </tr>\n",
       "    <tr>\n",
       "      <th>1103653</th>\n",
       "      <td>RbGe</td>\n",
       "      <td>0.868843</td>\n",
       "    </tr>\n",
       "  </tbody>\n",
       "</table>\n",
       "</div>"
      ],
      "text/plain": [
       "        Composition   delta_e\n",
       "15232        Tb2Se3 -1.618293\n",
       "310747        Pr3Os  0.322557\n",
       "17129         Tl2Pt -0.062342\n",
       "310689         Gd3F -0.196685\n",
       "1103653        RbGe  0.868843"
      ]
     },
     "execution_count": 9,
     "metadata": {},
     "output_type": "execute_result"
    }
   ],
   "source": [
    "df[['Composition', 'delta_e']].head()"
   ]
  },
  {
   "cell_type": "code",
   "execution_count": 20,
   "id": "323811ca",
   "metadata": {},
   "outputs": [],
   "source": [
    "##########################################################\n",
    "# Binary stable material discovery 50:50 explore/exploit agent\n",
    "##########################################################\n",
    "n_seed = 200  # Starting sample size - a seed of this size will be randomly chosen.\n",
    "n_query = 20  # This many new candidates are \"calculated with DFT\" (i.e. requested from Oracle -- DFT)\n",
    "agent = AgentStabilityAdaBoost(\n",
    "    model=MLPRegressor(hidden_layer_sizes=(40, 20)),\n",
    "    n_query=n_query,\n",
    "    hull_distance=0.05,\n",
    "    uncertainty=True,\n",
    "    exploit_fraction=0.5,\n",
    "    n_estimators=10\n",
    ")\n",
    "analyzer = StabilityAnalyzer(hull_distance=0.05)\n",
    "experiment = ATFSampler(dataframe=df)\n",
    "candidate_data = df"
   ]
  },
  {
   "cell_type": "code",
   "execution_count": 21,
   "id": "59ace130",
   "metadata": {},
   "outputs": [
    {
     "name": "stderr",
     "output_type": "stream",
     "text": [
      "Campaign initialization state: Agent RandomAgent hypothesizing\n",
      "Campaign 0 state: Running experiments\n",
      "Iteration: 0\n",
      "Campaign 0 state: Getting new results\n",
      "Campaign 0 state: Analyzing results\n",
      "/Users/josephmontoya/PycharmProjects/camd/camd_public/camd/analysis.py:505: UserWarning: Number of elements too high for phase diagram plotting\n",
      "  warnings.warn(\"Number of elements too high for phase diagram plotting\")\n",
      "Campaign 0 state: Agent AgentStabilityAdaBoost hypothesizing\n",
      "Campaign 0 state: Running experiments\n",
      "  Waiting for next round ...\n",
      "Iteration: 1\n",
      "Campaign 1 state: Getting new results\n",
      "Campaign 1 state: Analyzing results\n",
      "/Users/josephmontoya/PycharmProjects/camd/camd_public/camd/analysis.py:505: UserWarning: Number of elements too high for phase diagram plotting\n",
      "  warnings.warn(\"Number of elements too high for phase diagram plotting\")\n",
      "Campaign 1 state: Agent AgentStabilityAdaBoost hypothesizing\n",
      "Campaign 1 state: Running experiments\n",
      "  Waiting for next round ...\n",
      "Iteration: 2\n",
      "Campaign 2 state: Getting new results\n",
      "Campaign 2 state: Analyzing results\n",
      "/Users/josephmontoya/PycharmProjects/camd/camd_public/camd/analysis.py:505: UserWarning: Number of elements too high for phase diagram plotting\n",
      "  warnings.warn(\"Number of elements too high for phase diagram plotting\")\n",
      "Campaign 2 state: Agent AgentStabilityAdaBoost hypothesizing\n",
      "Campaign 2 state: Running experiments\n",
      "  Waiting for next round ...\n",
      "Iteration: 3\n",
      "Campaign 3 state: Getting new results\n",
      "Campaign 3 state: Analyzing results\n",
      "/Users/josephmontoya/PycharmProjects/camd/camd_public/camd/analysis.py:505: UserWarning: Number of elements too high for phase diagram plotting\n",
      "  warnings.warn(\"Number of elements too high for phase diagram plotting\")\n",
      "Campaign 3 state: Agent AgentStabilityAdaBoost hypothesizing\n",
      "Campaign 3 state: Running experiments\n",
      "  Waiting for next round ...\n",
      "Iteration: 4\n",
      "Campaign 4 state: Getting new results\n",
      "Campaign 4 state: Analyzing results\n",
      "/Users/josephmontoya/PycharmProjects/camd/camd_public/camd/analysis.py:505: UserWarning: Number of elements too high for phase diagram plotting\n",
      "  warnings.warn(\"Number of elements too high for phase diagram plotting\")\n",
      "Campaign 4 state: Agent AgentStabilityAdaBoost hypothesizing\n",
      "Campaign 4 state: Running experiments\n",
      "  Waiting for next round ...\n",
      "Finalizing campaign.\n",
      "/Users/josephmontoya/PycharmProjects/camd/camd_public/camd/analysis.py:505: UserWarning: Number of elements too high for phase diagram plotting\n",
      "  warnings.warn(\"Number of elements too high for phase diagram plotting\")\n"
     ]
    }
   ],
   "source": [
    "# Usually takes ~10 minutes\n",
    "path = os.path.join(os.getcwd(), \"adaboost_structure_discovery\")\n",
    "shutil.rmtree(path, ignore_errors=True)\n",
    "os.makedirs(path)\n",
    "new_loop = Campaign(\n",
    "    candidate_data, agent, experiment, analyzer,\n",
    "    create_seed=n_seed, path=path\n",
    ")\n",
    "new_loop.auto_loop(n_iterations=4, initialize=True)"
   ]
  },
  {
   "cell_type": "code",
   "execution_count": 26,
   "id": "448c40e7",
   "metadata": {},
   "outputs": [
    {
     "data": {
      "text/html": [
       "<div>\n",
       "<style scoped>\n",
       "    .dataframe tbody tr th:only-of-type {\n",
       "        vertical-align: middle;\n",
       "    }\n",
       "\n",
       "    .dataframe tbody tr th {\n",
       "        vertical-align: top;\n",
       "    }\n",
       "\n",
       "    .dataframe thead th {\n",
       "        text-align: right;\n",
       "    }\n",
       "</style>\n",
       "<table border=\"1\" class=\"dataframe\">\n",
       "  <thead>\n",
       "    <tr style=\"text-align: right;\">\n",
       "      <th></th>\n",
       "      <th>new_candidates</th>\n",
       "      <th>new_discovery</th>\n",
       "      <th>total_discovery</th>\n",
       "    </tr>\n",
       "  </thead>\n",
       "  <tbody>\n",
       "    <tr>\n",
       "      <th>0</th>\n",
       "      <td>200</td>\n",
       "      <td>108</td>\n",
       "      <td>108</td>\n",
       "    </tr>\n",
       "    <tr>\n",
       "      <th>1</th>\n",
       "      <td>20</td>\n",
       "      <td>15</td>\n",
       "      <td>29</td>\n",
       "    </tr>\n",
       "    <tr>\n",
       "      <th>2</th>\n",
       "      <td>20</td>\n",
       "      <td>9</td>\n",
       "      <td>27</td>\n",
       "    </tr>\n",
       "    <tr>\n",
       "      <th>3</th>\n",
       "      <td>20</td>\n",
       "      <td>10</td>\n",
       "      <td>32</td>\n",
       "    </tr>\n",
       "    <tr>\n",
       "      <th>4</th>\n",
       "      <td>20</td>\n",
       "      <td>10</td>\n",
       "      <td>32</td>\n",
       "    </tr>\n",
       "  </tbody>\n",
       "</table>\n",
       "</div>"
      ],
      "text/plain": [
       "   new_candidates  new_discovery  total_discovery\n",
       "0             200            108              108\n",
       "1              20             15               29\n",
       "2              20              9               27\n",
       "3              20             10               32\n",
       "4              20             10               32"
      ]
     },
     "execution_count": 26,
     "metadata": {},
     "output_type": "execute_result"
    }
   ],
   "source": [
    "new_loop.history"
   ]
  },
  {
   "cell_type": "code",
   "execution_count": 31,
   "id": "13a90c71",
   "metadata": {},
   "outputs": [
    {
     "data": {
      "text/plain": [
       "<AxesSubplot:>"
      ]
     },
     "execution_count": 31,
     "metadata": {},
     "output_type": "execute_result"
    },
    {
     "data": {
      "image/png": "[encoded data removed]",
      "text/plain": [
       "<Figure size 432x288 with 1 Axes>"
      ]
     },
     "metadata": {
      "needs_background": "light"
     },
     "output_type": "display_data"
    }
   ],
   "source": [
    "new_loop.history.plot.bar(y='total_discovery')\n"
   ]
  }
 ],
 "metadata": {
  "kernelspec": {
   "display_name": "Python 3",
   "language": "python",
   "name": "python3"
  },
  "language_info": {
   "codemirror_mode": {
    "name": "ipython",
    "version": 3
   },
   "file_extension": ".py",
   "mimetype": "text/x-python",
   "name": "python",
   "nbconvert_exporter": "python",
   "pygments_lexer": "ipython3",
   "version": "3.9.12"
  }
 },
 "nbformat": 4,
 "nbformat_minor": 5
}
