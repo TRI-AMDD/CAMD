{
 "cells": [
  {
   "cell_type": "code",
   "execution_count": null,
   "metadata": {},
   "outputs": [],
   "source": [
    "import GPy\n",
    "import matplotlib.pyplot as plt\n",
    "import numpy as np\n",
    "import os\n",
    "import pandas as pd\n",
    "from tqdm import tqdm\n",
    "\n",
    "# Set pandas view options\n",
    "pd.set_option('display.width', 1000)\n",
    "pd.set_option('display.max_columns', None)\n",
    "pd.set_option('display.max_rows', None)\n",
    "\n",
    "# filter warnings messages from the notebook\n",
    "import warnings\n",
    "warnings.filterwarnings('ignore')\n",
    "\n",
    "from monty.os import cd\n",
    "from sklearn.model_selection import train_test_split\n",
    "from sklearn import metrics\n",
    "from sklearn.svm import SVR\n",
    "from sklearn.ensemble import RandomForestRegressor\n",
    "\n",
    "from multi import Generic_MultiAgent, GP_MultiAgent, MultiAnalyzer\n",
    "from camd.experiment.base import ATFSampler\n",
    "from camd.campaigns.base import Campaign\n",
    "from camd import CAMD_CACHE"
   ]
  },
  {
   "cell_type": "code",
   "execution_count": null,
   "metadata": {},
   "outputs": [],
   "source": [
    "featurized_data =pd.read_csv(os.path.join(CAMD_CACHE, \"brgoch_unittest_data.csv\"), index_col=0)\n",
    "\n",
    "seed_data, candidate_data = train_test_split(featurized_data, test_size=0.8, random_state=42)\n",
    "# First we will drop all the candidate compositions if they \n",
    "# are already verified in seed data. \n",
    "seed_data_chemsys = list(seed_data.reduced_formula)\n",
    "seed_data  = seed_data.append(candidate_data.loc[candidate_data.reduced_formula.isin(seed_data_chemsys)])\n",
    "candidate_data = candidate_data[~candidate_data.reduced_formula.isin(seed_data_chemsys)]\n",
    "\n",
    "print(len(seed_data), len(candidate_data))\n",
    "print(len(seed_data)+len(candidate_data)==len(featurized_data))"
   ]
  },
  {
   "cell_type": "markdown",
   "metadata": {},
   "source": [
    "# Campaign"
   ]
  },
  {
   "cell_type": "code",
   "execution_count": null,
   "metadata": {},
   "outputs": [],
   "source": [
    "N_query = 200\n",
    "iterations = 10"
   ]
  },
  {
   "cell_type": "markdown",
   "metadata": {},
   "source": [
    "### 1. Random Agent"
   ]
  },
  {
   "cell_type": "code",
   "execution_count": null,
   "metadata": {
    "scrolled": true
   },
   "outputs": [],
   "source": [
    "# Set up a folder for all the results file\n",
    "os.system('rm -rf random')\n",
    "os.system('mkdir -p random')\n",
    "\n",
    "random_agent = RandomAgent(candidate_data=candidate_data, n_query=N_query)\n",
    "random_experiment = ATFSampler(dataframe=featurized_data)\n",
    "analyzer = MultiAnalyzer(target_prop='bandgap', prop_range=[1.6, 2.0])\n",
    "\n",
    "with cd('random'):\n",
    "    random_campaign = Campaign(candidate_data=candidate_data, seed_data=seed_data, \n",
    "                               agent=random_agent, experiment=random_experiment, \n",
    "                               analyzer=analyzer)\n",
    "\n",
    "    random_campaign.auto_loop(n_iterations=iterations, initialize=True)"
   ]
  },
  {
   "cell_type": "code",
   "execution_count": null,
   "metadata": {},
   "outputs": [],
   "source": [
    "# random_history = pd.read_pickle('random/history.pickle')\n",
    "# random_history"
   ]
  },
  {
   "cell_type": "code",
   "execution_count": null,
   "metadata": {},
   "outputs": [],
   "source": [
    "# random_history[['new_exp_discovery', 'total_exp_discovery']].plot(subplots=True)"
   ]
  },
  {
   "cell_type": "markdown",
   "metadata": {},
   "source": [
    "### 2. MultiAgent\n",
    "\n",
    "#### 2.1 SVR (Generic Agent)"
   ]
  },
  {
   "cell_type": "code",
   "execution_count": null,
   "metadata": {
    "scrolled": true
   },
   "outputs": [],
   "source": [
    "# Set up a folder for all the results file\n",
    "os.system('rm -rf svr')\n",
    "os.system('mkdir -p svr')\n",
    "\n",
    "svr_agent = GenericMultiAgent(target_prop='bandgap', ideal_prop_val=1.8, \n",
    "                   candidate_data=candidate_data, seed_data=seed_data, n_query=N_query,\n",
    "                   model=SVR(C=10), preprocessor=preprocessing.StandardScaler()\n",
    "                   )\n",
    "svr_experiment = ATFSampler(dataframe=featurized_data)\n",
    "svr_analyzer = MultiAnalyzer(target_prop='bandgap', prop_range=[1.6, 2.0])\n",
    "\n",
    "with cd('svr'):\n",
    "    random_campaign = Campaign(candidate_data=candidate_data, seed_data=seed_data, \n",
    "                               agent=svr_agent, experiment=svr_experiment, \n",
    "                               analyzer=svr_analyzer)\n",
    "    random_campaign.auto_loop(n_iterations=iterations, initialize=True)\n"
   ]
  },
  {
   "cell_type": "code",
   "execution_count": null,
   "metadata": {},
   "outputs": [],
   "source": [
    "# svr_history = pd.read_pickle('svr/history.pickle')\n",
    "# svr_history"
   ]
  },
  {
   "cell_type": "code",
   "execution_count": null,
   "metadata": {},
   "outputs": [],
   "source": [
    "# svr_history[['new_exp_discovery', 'total_exp_discovery']].plot(subplots=True)"
   ]
  },
  {
   "cell_type": "markdown",
   "metadata": {},
   "source": [
    "#### 2.2 RandomForest Regressor (Generic Agent)"
   ]
  },
  {
   "cell_type": "code",
   "execution_count": null,
   "metadata": {
    "scrolled": true
   },
   "outputs": [],
   "source": [
    "# Set up a folder for all the results file\n",
    "os.system('rm -rf rf')\n",
    "os.system('mkdir -p rf')\n",
    "\n",
    "# the hyper-params in rf are optimized \n",
    "rf_regressor = RandomForestRegressor(min_samples_split=5, n_estimators=30, n_jobs=-1)\n",
    "\n",
    "rf_agent = Generic_MultiAgent(target_prop='bandgap', ideal_prop_val=1.8, \n",
    "                   candidate_data=candidate_data, seed_data=seed_data, n_query=N_query,\n",
    "                   model=rf_regressor, preprocessor=preprocessing.StandardScaler()\n",
    "                   )\n",
    "svr_experiment = ATFSampler(dataframe=featurized_data)\n",
    "svr_analyzer = MultiAnalyzer(target_prop='bandgap', prop_range=[1.6, 2.0])\n",
    "\n",
    "with cd('rf'):\n",
    "    random_campaign = Campaign(candidate_data=candidate_data, seed_data=seed_data, \n",
    "                               agent=svr_agent, experiment=svr_experiment, \n",
    "                               analyzer=svr_analyzer)\n",
    "    random_campaign.auto_loop(n_iterations=iterations, initialize=True)\n"
   ]
  },
  {
   "cell_type": "code",
   "execution_count": null,
   "metadata": {},
   "outputs": [],
   "source": [
    "# rf_history = pd.read_pickle('rf/history.pickle')\n",
    "# rf_history"
   ]
  },
  {
   "cell_type": "code",
   "execution_count": null,
   "metadata": {},
   "outputs": [],
   "source": [
    "# rf_history[['new_exp_discovery', 'total_exp_discovery']].plot(subplots=True)"
   ]
  },
  {
   "cell_type": "markdown",
   "metadata": {},
   "source": [
    "#### 2.3 GP"
   ]
  },
  {
   "cell_type": "code",
   "execution_count": null,
   "metadata": {
    "scrolled": true
   },
   "outputs": [],
   "source": [
    "# Set up a folder for all the results file\n",
    "os.system('rm -rf GP')\n",
    "os.system('mkdir -p GP')\n",
    "\n",
    "GP_agent = GP_MultiAgent(target_prop='bandgap', ideal_prop_val=1.8, \n",
    "                      candidate_data=candidate_data, seed_data=seed_data, n_query=N_query,\n",
    "                      preprocessor=preprocessing.StandardScaler() \n",
    "                   )\n",
    "GP_experiment = ATFSampler(dataframe=featurized_data)\n",
    "GP_analyzer = MultiAnalyzer(target_prop='bandgap', prop_range=[1.6, 2.0])\n",
    "\n",
    "with cd('GP'):\n",
    "    random_campaign = Campaign(candidate_data=candidate_data, seed_data=seed_data, \n",
    "                               agent=GP_agent, experiment=GP_experiment, \n",
    "                               analyzer=GP_analyzer)\n",
    "    random_campaign.auto_loop(n_iterations=iterations, initialize=True)"
   ]
  },
  {
   "cell_type": "code",
   "execution_count": null,
   "metadata": {},
   "outputs": [],
   "source": [
    "gp_history = pd.read_pickle('GP/history.pickle')\n",
    "gp_history"
   ]
  },
  {
   "cell_type": "markdown",
   "metadata": {},
   "source": [
    "#### Side by Side Analysis\n",
    "\n",
    "* Total budget is 1000. (300 is  experimental allocation, rest is theory allocation)\n",
    "\n",
    "* We only acquired 89 good experimental data. ~29% success rate "
   ]
  },
  {
   "cell_type": "code",
   "execution_count": null,
   "metadata": {},
   "outputs": [],
   "source": [
    "random_history[['new_exp_discovery', 'total_exp_discovery']].plot(subplots=True)\n",
    "svr_history[['new_exp_discovery', 'total_exp_discovery']].plot(subplots=True)\n",
    "rf_history[['new_exp_discovery', 'total_exp_discovery']].plot(subplots=True)\n",
    "gp_history[['new_exp_discovery', 'total_exp_discovery']].plot(subplots=True)"
   ]
  },
  {
   "cell_type": "code",
   "execution_count": null,
   "metadata": {},
   "outputs": [],
   "source": [
    "new_exp_discoveries = pd.DataFrame({'random_new_discovery': np.array(random_history['new_exp_discovery']),\n",
    "                                'svr_new_discovery': np.array(svr_history['new_exp_discovery']),\n",
    "                                'rf_new_discovery': np.array(rf_history['new_exp_discovery']),    \n",
    "                                'gp_new_discovery': np.array(gp_history['new_exp_discovery'])  \n",
    "})\n",
    "new_exp_discoveries"
   ]
  },
  {
   "cell_type": "code",
   "execution_count": null,
   "metadata": {},
   "outputs": [],
   "source": [
    "total_exp_discoveries = pd.DataFrame({'random_tot_discovery': np.array(random_history['total_exp_discovery']),\n",
    "                                'svr_tot_discovery': np.array(svr_history['total_exp_discovery']),\n",
    "                                'rf_tot_discovery': np.array(rf_history['total_exp_discovery']),            \n",
    "                                'gp_tot_discovery': np.array(gp_history['total_exp_discovery'])  \n",
    "})\n",
    "\n",
    "# 228 expt candidates is what was in seed data\n",
    "total_exp_discoveries-228"
   ]
  },
  {
   "cell_type": "code",
   "execution_count": null,
   "metadata": {},
   "outputs": [],
   "source": []
  }
 ],
 "metadata": {
  "kernelspec": {
   "display_name": "Python 3",
   "language": "python",
   "name": "python3"
  },
  "language_info": {
   "codemirror_mode": {
    "name": "ipython",
    "version": 3
   },
   "file_extension": ".py",
   "mimetype": "text/x-python",
   "name": "python",
   "nbconvert_exporter": "python",
   "pygments_lexer": "ipython3",
   "version": "3.7.0"
  }
 },
 "nbformat": 4,
 "nbformat_minor": 4
}
