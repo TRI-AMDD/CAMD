{
 "cells": [
  {
   "cell_type": "markdown",
   "metadata": {},
   "source": [
    "This notebook shows how we generated the example dataset as a reference: <br>\n",
    "1. Load experimental bandgap dataset from Matminer\n",
    "2. For each experimental composition, obtain the band gap corresponding to the most phase-stable (i.e. lowest computed energy per atom) crystal structure from the Materials Project\n",
    "3. Include the levels of fidelity with one-hot encoding\n",
    "4. Featurized the composition with matminer ElementProperty featurizer\n",
    "5. Include ICSD year-of-discovery of each composition"
   ]
  },
  {
   "cell_type": "markdown",
   "metadata": {},
   "source": [
    "##### Load packages"
   ]
  },
  {
   "cell_type": "code",
   "execution_count": 1,
   "metadata": {},
   "outputs": [
    {
     "name": "stderr",
     "output_type": "stream",
     "text": [
      "\n",
      "Bad key \"text.kerning_factor\" on line 4 in\n",
      "/home/ubuntu/miniconda3/lib/python3.7/site-packages/matplotlib/mpl-data/stylelib/_classic_test_patch.mplstyle.\n",
      "You probably need to get an updated matplotlibrc file from\n",
      "https://github.com/matplotlib/matplotlib/blob/v3.1.3/matplotlibrc.template\n",
      "or from the matplotlib source distribution\n"
     ]
    }
   ],
   "source": [
    "import matplotlib.pyplot as plt\n",
    "import numpy as np\n",
    "import pandas as pd\n",
    "import pickle\n",
    "from tqdm import tqdm\n",
    "from matminer.datasets.dataset_retrieval import load_dataset\n",
    "from matminer.featurizers.composition import ElementProperty\n",
    "from pymatgen import Composition\n",
    "from pymatgen import MPRester, Composition\n",
    "mpr = MPRester() # provide your API key here or add it to pymatgen"
   ]
  },
  {
   "cell_type": "markdown",
   "metadata": {},
   "source": [
    "##### Load matminer bandgap data and add label ('expt_calculated')"
   ]
  },
  {
   "cell_type": "code",
   "execution_count": 4,
   "metadata": {},
   "outputs": [
    {
     "name": "stdout",
     "output_type": "stream",
     "text": [
      "(6353, 2)\n"
     ]
    },
    {
     "data": {
      "text/plain": [
       "(4933, 3)"
      ]
     },
     "execution_count": 4,
     "metadata": {},
     "output_type": "execute_result"
    }
   ],
   "source": [
    "# load experimental dataset\n",
    "exp_data = load_dataset('expt_gap')\n",
    "\n",
    "# clean up the dataframe, there is an unusual formula\n",
    "exp_data = exp_data[exp_data.formula != 'GaAs0.1P0.9G1128']\n",
    "exp_data = exp_data.rename(columns={'gap expt': 'bandgap'})\n",
    "exp_data = exp_data.groupby('formula').agg({'bandgap':'min'}).reset_index()\n",
    "exp_data['expt_calculated'] = 1\n",
    "exp_data.shape"
   ]
  },
  {
   "cell_type": "markdown",
   "metadata": {},
   "source": [
    "##### Load MP theory bandgap data"
   ]
  },
  {
   "cell_type": "code",
   "execution_count": 5,
   "metadata": {},
   "outputs": [
    {
     "name": "stderr",
     "output_type": "stream",
     "text": [
      "100%|██████████| 4933/4933 [17:26<00:00,  4.71it/s]  \n"
     ]
    }
   ],
   "source": [
    "def get_MP_bandgap(formula):\n",
    "    \"\"\"Given a composition, get the band gap energy of the ground-state structure\n",
    "    at that composition\n",
    "    \n",
    "    Args:\n",
    "        composition (string) - formula\n",
    "    Returns:\n",
    "        (float) Band gap energy of the ground state structure\"\"\"\n",
    "    # The MPRester requires integer formuals as input\n",
    "    reduced_formula = Composition(formula).get_integer_formula_and_factor()[0]\n",
    "    struct_lst = mpr.get_data(reduced_formula)\n",
    "    \n",
    "    # If there is a structure at this composition, return the band gap energy\n",
    "    if struct_lst:\n",
    "        return reduced_formula, sorted(struct_lst, key=lambda e: e['energy_per_atom'])[0]['band_gap']\n",
    "    else:\n",
    "        return reduced_formula, np.nan\n",
    "\n",
    "bandgap_info = {}\n",
    "formula_set = set(list(exp_data['formula']))\n",
    "for formula in tqdm(list(formula_set)):\n",
    "    reduced_formula, bandgap = get_MP_bandgap(formula) \n",
    "    bandgap_info[formula] = [reduced_formula, bandgap]   "
   ]
  },
  {
   "cell_type": "code",
   "execution_count": 6,
   "metadata": {},
   "outputs": [],
   "source": [
    "theory_df = pd.DataFrame([[key]+value for key, value in bandgap_info.items()], \n",
    "                          columns=['formula', 'reduced_formula', 'gap theory'])\n",
    "\n",
    "theory_data = pd.DataFrame([[key]+value for key, value in bandgap_info.items()], \n",
    "                          columns=['formula', 'reduced_formula', 'bandgap']).drop(columns=['formula']).dropna()\n",
    "theory_data['expt_calculated'] = 0\n",
    "\n",
    "# Also modify experimental data and get rid of ones without their corresponding theory data\n",
    "modified_expt_data = pd.merge(exp_data, theory_df[['formula', 'gap theory', 'reduced_formula']], \n",
    "                         on='formula').dropna().drop(columns=['gap theory', 'formula'])"
   ]
  },
  {
   "cell_type": "markdown",
   "metadata": {},
   "source": [
    "##### Combine theory and experiment data"
   ]
  },
  {
   "cell_type": "code",
   "execution_count": 7,
   "metadata": {},
   "outputs": [],
   "source": [
    "grouped_data = pd.concat([modified_expt_data, theory_data], ignore_index=True)\n",
    "grouped_final_data = grouped_data.sort_values(by=['reduced_formula']).reset_index(drop=True)"
   ]
  },
  {
   "cell_type": "code",
   "execution_count": 12,
   "metadata": {},
   "outputs": [],
   "source": [
    "grouped_final_data['theory_data'] = [1 if x==0 else 0 for x in grouped_final_data.expt_calculated]\n",
    "grouped_final_data['expt_data'] = [1 if x==1 else 0 for x in grouped_final_data.expt_calculated]\n",
    "grouped_final_data = grouped_final_data.drop(columns=['expt_calculated'])\n",
    "\n",
    "grouped_final_data = grouped_final_data[['bandgap', 'theory_data', 'expt_data', 'reduced_formula']]"
   ]
  },
  {
   "cell_type": "markdown",
   "metadata": {},
   "source": [
    "##### Featurization \n",
    "\"Predicting the Band Gaps of Inorganic Solids by Machine Learning\".  They mentioned The descriptor set is limited to composition descriptors in our current machine-learning model because most of the band gaps obtained from the literature are not accompanied by sufficient crystallographic data, only the necessary composition information. "
   ]
  },
  {
   "cell_type": "code",
   "execution_count": 13,
   "metadata": {},
   "outputs": [],
   "source": [
    "featurizer = ElementProperty.from_preset(\"magpie\")"
   ]
  },
  {
   "cell_type": "code",
   "execution_count": 14,
   "metadata": {},
   "outputs": [
    {
     "data": {
      "application/vnd.jupyter.widget-view+json": {
       "model_id": "f5ff4029229846bebf17718928501dc5",
       "version_major": 2,
       "version_minor": 0
      },
      "text/plain": [
       "HBox(children=(FloatProgress(value=0.0, description='ElementProperty', max=7828.0, style=ProgressStyle(descrip…"
      ]
     },
     "metadata": {},
     "output_type": "display_data"
    },
    {
     "name": "stdout",
     "output_type": "stream",
     "text": [
      "\n"
     ]
    }
   ],
   "source": [
    "# magpie features\n",
    "grouped_final_data['composition'] = grouped_final_data['reduced_formula'].apply(Composition)\n",
    "featurizer = ElementProperty.from_preset(\"magpie\")\n",
    "featurized_data = featurizer.featurize_dataframe(grouped_final_data, 'composition')"
   ]
  },
  {
   "cell_type": "code",
   "execution_count": 16,
   "metadata": {},
   "outputs": [],
   "source": [
    "featurized_data.to_csv('brgoch_featurized_data.csv')"
   ]
  }
 ],
 "metadata": {
  "kernelspec": {
   "display_name": "Python 3",
   "language": "python",
   "name": "python3"
  },
  "language_info": {
   "codemirror_mode": {
    "name": "ipython",
    "version": 3
   },
   "file_extension": ".py",
   "mimetype": "text/x-python",
   "name": "python",
   "nbconvert_exporter": "python",
   "pygments_lexer": "ipython3",
   "version": "3.8.8"
  }
 },
 "nbformat": 4,
 "nbformat_minor": 4
}
